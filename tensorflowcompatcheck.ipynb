{
  "nbformat": 4,
  "nbformat_minor": 0,
  "metadata": {
    "colab": {
      "name": "Tensorflowtutorial.ipynb",
      "provenance": []
    },
    "kernelspec": {
      "name": "python3",
      "display_name": "Python 3"
    }
  },
  "cells": [
    {
      "cell_type": "markdown",
      "metadata": {
        "id": "Jo5kT6ERky6e"
      },
      "source": [
        "The Notebook is hosted on google colab. Created by NILOTPAL MRINAL FOR BASIC IMPLEMENTATION OF TENSORFLOW IN MACHINE LEARNING."
      ]
    },
    {
      "cell_type": "code",
      "metadata": {
        "id": "pwNEeLudQh5L",
        "outputId": "920e3d77-515c-47f8-c168-ce8bc721ab2a",
        "colab": {
          "base_uri": "https://localhost:8080/",
          "height": 88
        }
      },
      "source": [
        "import tensorflow.compat.v1 as tf\n",
        "tf.disable_v2_behavior()"
      ],
      "execution_count": 7,
      "outputs": [
        {
          "output_type": "stream",
          "text": [
            "WARNING:tensorflow:From /usr/local/lib/python3.6/dist-packages/tensorflow/python/compat/v2_compat.py:96: disable_resource_variables (from tensorflow.python.ops.variable_scope) is deprecated and will be removed in a future version.\n",
            "Instructions for updating:\n",
            "non-resource variables are not supported in the long term\n"
          ],
          "name": "stdout"
        }
      ]
    },
    {
      "cell_type": "code",
      "metadata": {
        "id": "XLobDTLzQnRZ"
      },
      "source": [
        "x = tf.placeholder(tf.int32, name = 'x')\n",
        "y = tf.placeholder(tf.int32, name = 'y')"
      ],
      "execution_count": 16,
      "outputs": []
    },
    {
      "cell_type": "code",
      "metadata": {
        "id": "-LFkKWMZQ3yt"
      },
      "source": [
        "multiply = tf.multiply(x,y,name = 'result')"
      ],
      "execution_count": 17,
      "outputs": []
    },
    {
      "cell_type": "code",
      "metadata": {
        "id": "HFnTTzjfRC1Z",
        "outputId": "c49ec27b-6384-41dd-af68-4e4414fc5717",
        "colab": {
          "base_uri": "https://localhost:8080/",
          "height": 34
        }
      },
      "source": [
        "with tf.Session() as session:\n",
        "  result = session.run(multiply, feed_dict = {x:[9,3,4], y:[3,4,5]})\n",
        "  print(result)"
      ],
      "execution_count": 19,
      "outputs": [
        {
          "output_type": "stream",
          "text": [
            "[27 12 20]\n"
          ],
          "name": "stdout"
        }
      ]
    },
    {
      "cell_type": "code",
      "metadata": {
        "id": "XrKSIdiQTr9c"
      },
      "source": [
        "p=tf.constant([1,2,3])\n",
        "q=tf.constant([3,4 ,5])"
      ],
      "execution_count": 21,
      "outputs": []
    },
    {
      "cell_type": "code",
      "metadata": {
        "id": "Waf0xO6aVq3f"
      },
      "source": [
        "result = tf.multiply(p,q,name='result')"
      ],
      "execution_count": 22,
      "outputs": []
    },
    {
      "cell_type": "code",
      "metadata": {
        "id": "FkqR6I0ZV8kQ",
        "outputId": "22f5010d-2871-4431-f296-0a28593ec4c8",
        "colab": {
          "base_uri": "https://localhost:8080/",
          "height": 34
        }
      },
      "source": [
        "print(result)\n",
        "#Please note here that print result will give the metadata not the result"
      ],
      "execution_count": 24,
      "outputs": [
        {
          "output_type": "stream",
          "text": [
            "Tensor(\"result_2:0\", shape=(3,), dtype=int32)\n"
          ],
          "name": "stdout"
        }
      ]
    },
    {
      "cell_type": "code",
      "metadata": {
        "id": "mKSom_EBWAqB",
        "outputId": "d6c95a37-a53f-464e-8e63-cb24b64556bf",
        "colab": {
          "base_uri": "https://localhost:8080/",
          "height": 68
        }
      },
      "source": [
        "from tensorflow import keras\n",
        "import numpy as np\n",
        "\n",
        "\n",
        "model = tf.keras.Sequential([keras.layers.Dense(units = 1, input_shape=[1])])\n",
        "model.compile(optimizer='sgd',loss='mean_squared_error')\n",
        "\n",
        "xs = np.array([1.0,2.0,3.0,4.0,5.0,6.0])\n",
        "ys = np.array([0.6,0.9,1.2,1.5,1.8,2.1])\n",
        "model.fit(xs,ys)"
      ],
      "execution_count": 34,
      "outputs": [
        {
          "output_type": "stream",
          "text": [
            "Train on 6 samples\n",
            "6/6 [==============================] - 0s 415us/sample - loss: 5.6109\n"
          ],
          "name": "stdout"
        },
        {
          "output_type": "execute_result",
          "data": {
            "text/plain": [
              "<tensorflow.python.keras.callbacks.History at 0x7f845443ec50>"
            ]
          },
          "metadata": {
            "tags": []
          },
          "execution_count": 34
        }
      ]
    },
    {
      "cell_type": "code",
      "metadata": {
        "id": "1ewm5pUOXScT",
        "outputId": "9ed59bdc-8060-41ae-b0fc-8d6d7573da41",
        "colab": {
          "base_uri": "https://localhost:8080/",
          "height": 105
        }
      },
      "source": [
        "print(model.predict([7.0]))"
      ],
      "execution_count": 36,
      "outputs": [
        {
          "output_type": "stream",
          "text": [
            "WARNING:tensorflow:From /usr/local/lib/python3.6/dist-packages/tensorflow/python/keras/engine/training_v1.py:2070: Model.state_updates (from tensorflow.python.keras.engine.training) is deprecated and will be removed in a future version.\n",
            "Instructions for updating:\n",
            "This property should not be used in TensorFlow 2.0, as updates are applied automatically.\n",
            "[[-0.33329514]]\n"
          ],
          "name": "stdout"
        }
      ]
    },
    {
      "cell_type": "code",
      "metadata": {
        "id": "-NhQRj5faWu2"
      },
      "source": [
        ""
      ],
      "execution_count": null,
      "outputs": []
    },
    {
      "cell_type": "markdown",
      "metadata": {
        "id": "0cqF0nVGbQ_-"
      },
      "source": [
        "`Here we will be implementing a pipeline using tensorflow model, \n",
        "It will be a 5 step approach "
      ]
    },
    {
      "cell_type": "code",
      "metadata": {
        "id": "55zH1jXpbvQJ",
        "outputId": "a7739886-c9a6-4e05-bc2e-ab8a1734b91c",
        "colab": {
          "base_uri": "https://localhost:8080/",
          "height": 34
        }
      },
      "source": [
        "import numpy as np\n",
        "x_input = np.random.sample((1,2))\n",
        "print(x_input)"
      ],
      "execution_count": 38,
      "outputs": [
        {
          "output_type": "stream",
          "text": [
            "[[0.39094047 0.06939051]]\n"
          ],
          "name": "stdout"
        }
      ]
    },
    {
      "cell_type": "code",
      "metadata": {
        "id": "YCq2Aa7Xb_pJ"
      },
      "source": [
        "x = tf.placeholder(tf.float32, shape=[1,2], name ='x')"
      ],
      "execution_count": 39,
      "outputs": []
    },
    {
      "cell_type": "code",
      "metadata": {
        "id": "xl_PJ9vdcilA"
      },
      "source": [
        "dataset = tf.data.Dataset.from_tensor_slices(x)"
      ],
      "execution_count": 41,
      "outputs": []
    },
    {
      "cell_type": "code",
      "metadata": {
        "id": "9MtCbroLdO93"
      },
      "source": [
        "iterator = dataset.make_initializable_iterator()\n",
        "get_next = iterator.get_next()"
      ],
      "execution_count": 49,
      "outputs": []
    },
    {
      "cell_type": "code",
      "metadata": {
        "id": "3kGGvCJWeu8U",
        "outputId": "7fbef434-d15f-49ff-ce34-0f38f64dffc1",
        "colab": {
          "base_uri": "https://localhost:8080/",
          "height": 34
        }
      },
      "source": [
        "with tf.Session() as session:\n",
        "  session.run(iterator.initializer, feed_dict={x:x_input})\n",
        "  print(session.run(get_next))"
      ],
      "execution_count": 50,
      "outputs": [
        {
          "output_type": "stream",
          "text": [
            "[0.3909405  0.06939051]\n"
          ],
          "name": "stdout"
        }
      ]
    },
    {
      "cell_type": "code",
      "metadata": {
        "id": "-WvWuDRjfmgz"
      },
      "source": [
        ""
      ],
      "execution_count": null,
      "outputs": []
    },
    {
      "cell_type": "markdown",
      "metadata": {
        "id": "aUGjFVQggj3g"
      },
      "source": [
        "Lets get into defining and training a neural network with tensorflow"
      ]
    },
    {
      "cell_type": "code",
      "metadata": {
        "id": "PvN5DGVPgsMq"
      },
      "source": [
        "model = tf.keras.Sequential([keras.layers.Dense(units = 1, input_shape=[1])])"
      ],
      "execution_count": 51,
      "outputs": []
    },
    {
      "cell_type": "code",
      "metadata": {
        "id": "GMjADbGTg9rX"
      },
      "source": [
        "model.compile(optimizer='sgd', loss = 'mean_squared_error')"
      ],
      "execution_count": 52,
      "outputs": []
    },
    {
      "cell_type": "code",
      "metadata": {
        "id": "JdAu3A39iKlt"
      },
      "source": [
        "xs = np.array([1.0,2.0,3.0,4.0,5.0,6.0])\n",
        "ys = np.array([0.6,0.9,1.2,1.5,1.8,2.1])"
      ],
      "execution_count": 53,
      "outputs": []
    },
    {
      "cell_type": "code",
      "metadata": {
        "id": "VblpYWTxiYY2",
        "outputId": "fb64be9e-2b8e-461f-e565-91b9dcbaa481",
        "colab": {
          "base_uri": "https://localhost:8080/",
          "height": 68
        }
      },
      "source": [
        "model.fit(xs,ys)"
      ],
      "execution_count": 54,
      "outputs": [
        {
          "output_type": "stream",
          "text": [
            "Train on 6 samples\n",
            "6/6 [==============================] - 0s 225us/sample - loss: 44.2013\n"
          ],
          "name": "stdout"
        },
        {
          "output_type": "execute_result",
          "data": {
            "text/plain": [
              "<tensorflow.python.keras.callbacks.History at 0x7f8450e7cba8>"
            ]
          },
          "metadata": {
            "tags": []
          },
          "execution_count": 54
        }
      ]
    },
    {
      "cell_type": "code",
      "metadata": {
        "id": "RsZRzCKDimnz",
        "outputId": "dc8a459e-6a70-416e-e5af-60c8273b9237",
        "colab": {
          "base_uri": "https://localhost:8080/",
          "height": 34
        }
      },
      "source": [
        "print(model.predict([45.0]))"
      ],
      "execution_count": 56,
      "outputs": [
        {
          "output_type": "stream",
          "text": [
            "[[-36.772736]]\n"
          ],
          "name": "stdout"
        }
      ]
    },
    {
      "cell_type": "code",
      "metadata": {
        "id": "j50WPrXpiwbg"
      },
      "source": [
        ""
      ],
      "execution_count": null,
      "outputs": []
    },
    {
      "cell_type": "markdown",
      "metadata": {
        "id": "ziPhm4nTkuEq"
      },
      "source": [
        "THE END OF THIS NOTEBOOK"
      ]
    },
    {
      "cell_type": "code",
      "metadata": {
        "id": "DdYt37cekxHc"
      },
      "source": [
        ""
      ],
      "execution_count": null,
      "outputs": []
    }
  ]
}